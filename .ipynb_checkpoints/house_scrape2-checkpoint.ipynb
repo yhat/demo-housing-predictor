{
 "metadata": {
  "name": "",
  "signature": "sha256:128266aaa42cf3fc61ddd8bea5e775e7ae81836a1e45ec56d439863f759f9705"
 },
 "nbformat": 3,
 "nbformat_minor": 0,
 "worksheets": []
}